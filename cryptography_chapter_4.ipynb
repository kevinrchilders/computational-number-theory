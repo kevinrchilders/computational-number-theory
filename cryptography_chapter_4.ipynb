{
  "nbformat": 4,
  "nbformat_minor": 0,
  "metadata": {
    "colab": {
      "name": "cryptography-chapter-4.ipynb",
      "private_outputs": true,
      "provenance": [],
      "authorship_tag": "ABX9TyOqT14uvHEAgljfHyhZZIj6",
      "include_colab_link": true
    },
    "kernelspec": {
      "name": "python3",
      "display_name": "Python 3"
    }
  },
  "cells": [
    {
      "cell_type": "markdown",
      "metadata": {
        "id": "view-in-github",
        "colab_type": "text"
      },
      "source": [
        "<a href=\"https://colab.research.google.com/github/kevinrchilders/computational-number-theory/blob/master/cryptography_chapter_4.ipynb\" target=\"_parent\"><img src=\"https://colab.research.google.com/assets/colab-badge.svg\" alt=\"Open In Colab\"/></a>"
      ]
    },
    {
      "cell_type": "markdown",
      "metadata": {
        "id": "AyUMlaxUAX_c"
      },
      "source": [
        "# Functions"
      ]
    },
    {
      "cell_type": "code",
      "metadata": {
        "id": "af2fInrsxI9k"
      },
      "source": [
        "import numpy as np\r\n",
        "import random"
      ],
      "execution_count": null,
      "outputs": []
    },
    {
      "cell_type": "code",
      "metadata": {
        "id": "3YAKWgyrxNh3"
      },
      "source": [
        "# Fast powering algorithm, gcd algorithms, etc.\r\n",
        "\r\n",
        "def power(a, b, n):\r\n",
        "  a = a%n\r\n",
        "  return 1 if b==0 else a**(b%2) * power(a**2, b//2, n) % n\r\n",
        "\r\n",
        "def gcd(a, b):\r\n",
        "  return a if b==0 else gcd(b, a%b)\r\n",
        "\r\n",
        "def extended_gcd(a, b):\r\n",
        "  u, g, x, y = 1, a, 0, b\r\n",
        "  while y != 0:\r\n",
        "    q, t = g // y, g % y\r\n",
        "    s = u - q*x\r\n",
        "    u, g, x, y = x, y, s, t\r\n",
        "  v = (g - a*u) // b \r\n",
        "  return g, u, v\r\n",
        "\r\n",
        "def inverse(a, N):\r\n",
        "  g, u, v = extended_gcd(a, N)\r\n",
        "  if g==1:\r\n",
        "    return u % N\r\n",
        "\r\n",
        "def order(a, p):\r\n",
        "  n = 1\r\n",
        "  x = a\r\n",
        "  while power(a, n, p) != 1:\r\n",
        "    x = (x * a) % p\r\n",
        "    n += 1\r\n",
        "  return n\r\n",
        "\r\n",
        "def is_primitive(a, p):\r\n",
        "  return order(a, p) == p-1\r\n",
        "\r\n",
        "def is_mrprime(n, trials=50):\r\n",
        "  for i in range(trials):\r\n",
        "    a = random.randint(1, n-1)\r\n",
        "    if is_mrwitness(a, n):\r\n",
        "      return False\r\n",
        "  return True\r\n",
        "\r\n",
        "def generate_prime(digits, attempts=100):\r\n",
        "  N = 2 * 3 * 5 * 7\r\n",
        "  for K in range(int(10**(digits)/N), int(10**(digits)/N)+attempts):\r\n",
        "    if is_mrprime(N*K + 1):\r\n",
        "      return N*K + 1\r\n",
        "  print('No primes found. Try more attempts.')\r\n",
        "  return None\r\n",
        "\r\n",
        "def is_mrwitness(a, n):\r\n",
        "  # If a and n have a common factor, then n is composite\r\n",
        "  if gcd(a, n) != 1:\r\n",
        "    return True\r\n",
        "\r\n",
        "  # Write n-1 = 2^k*q with q odd\r\n",
        "  k=0\r\n",
        "  q=n-1\r\n",
        "  while q%2 == 0:\r\n",
        "    k += 1\r\n",
        "    q = q//2\r\n",
        "  \r\n",
        "  # If a^q == 1 (mod n) then a is not a Miller-Rabin witness for n\r\n",
        "  a = power(a, q, n)\r\n",
        "  if a == 1:\r\n",
        "    return False\r\n",
        "  \r\n",
        "  # If a^(2^iq) == -1 (mod n) for some i<k then a is not a Miller-Rabin witness for n\r\n",
        "  for i in range(k):\r\n",
        "    if a == n-1:\r\n",
        "      return False\r\n",
        "    a = power(a, 2, n)\r\n",
        "\r\n",
        "  return True # Otherwise a is a Miller-Rabin witness for n\r\n",
        "\r\n",
        "def pollard(N, a=2, maxn=1000000):\r\n",
        "  for j in range(2, maxn):\r\n",
        "    a = power(a, j, N)\r\n",
        "    d = gcd(a-1, N)\r\n",
        "    if d != 1 and d != N:\r\n",
        "      return d\r\n",
        "  print('Test failed, try a larger maxn.')\r\n",
        "  return None\r\n",
        "\r\n",
        "def find_primitive(p):\r\n",
        "  a = 2\r\n",
        "  while not is_primitive(a, p):\r\n",
        "    a += 1\r\n",
        "  return a"
      ],
      "execution_count": null,
      "outputs": []
    },
    {
      "cell_type": "markdown",
      "metadata": {
        "id": "Hu2fczuHxZu6"
      },
      "source": [
        "# RSA digital signitures"
      ]
    },
    {
      "cell_type": "code",
      "metadata": {
        "id": "R4Y5vfKzxRiQ"
      },
      "source": [
        "# An example of Samantha sending a signed document to Victor for verification\r\n",
        "\r\n",
        "p = 5463458053                                      # Samantha's first secret prime\r\n",
        "q = 3367900313                                      # Samantha's second secret prime\r\n",
        "N = p*q                                             # Samantha's public modulus\r\n",
        "print('N =', N)\r\n",
        "e = 574812398758423897                              # Samantha's public verification exponent\r\n",
        "print('e =', e)\r\n",
        "d = inverse(e, (p-1)*(q-1)//gcd(p-1, q-1))  # Samantha's secret signing exponent, computed using the trapdoor information p and q\r\n",
        "\r\n",
        "D = 1123581321345589                                # Document to be signed\r\n",
        "print('D = ', D)\r\n",
        "S = power(D, d, N)                                  # Signiture computed by Samantha using her secret exponent\r\n",
        "print('S =', S)\r\n",
        "\r\n",
        "print('Sent by Samantha?:', D == power(S, e, N))    # Verification conducted by Victor (or anyone else)"
      ],
      "execution_count": null,
      "outputs": []
    },
    {
      "cell_type": "markdown",
      "metadata": {
        "id": "B3L3mCGg2UYK"
      },
      "source": [
        "# Elgamal digital signitures"
      ]
    },
    {
      "cell_type": "code",
      "metadata": {
        "id": "SN8gs3zl6Ioj"
      },
      "source": [
        "# Find a large prime p and a primitive root a in F_p\r\n",
        "p = generate_prime(6)\r\n",
        "print('p =', p)\r\n",
        "g = find_primitive(p)\r\n",
        "print('g =', g)\r\n",
        "\r\n",
        "# Samantha's chosen private exponent a, and her public key A\r\n",
        "a = random.randint(2, p-1)\r\n",
        "A = power(g, a, p)\r\n",
        "print('A =', A)\r\n",
        "\r\n",
        "# Document to be signed\r\n",
        "D = random.randint(2, p)\r\n",
        "print('D =', D)\r\n",
        "\r\n",
        "# Using a random k prime to p-1 and her secret exponent a, Samantha creates a signiture (S1, S2)\r\n",
        "k = random.randint(2, p)\r\n",
        "while gcd(k, p-1) != 1:\r\n",
        "  k = random.randint(2, p)\r\n",
        "S1 = power(g, k, p)\r\n",
        "S2 = ( (D - a*S1) * inverse(k, p-1) ) % (p-1)\r\n",
        "print('(S1, S2) =', (S1, S2))\r\n",
        "\r\n",
        "# Victor verifies the message is Samantha by checking that A^S1*S1^S2 = g^D mod p\r\n",
        "print('From Samantha?:', ((power(A, S1, p) * power(S1, S2, p) * power(g, p-1-D, p)) % p) == 1)"
      ],
      "execution_count": null,
      "outputs": []
    },
    {
      "cell_type": "markdown",
      "metadata": {
        "id": "ngKCelY2-Mdp"
      },
      "source": [
        "# DSA"
      ]
    },
    {
      "cell_type": "code",
      "metadata": {
        "id": "z-92JlPs_lLB"
      },
      "source": [
        "# We will use the prime p from the previous computation.\r\n",
        "# Recall that g1=7 was a primitive root modulo p\r\n",
        "\r\n",
        "p = 1000231\r\n",
        "g1 = 7"
      ],
      "execution_count": null,
      "outputs": []
    },
    {
      "cell_type": "code",
      "metadata": {
        "id": "c4x9JmZ-e3j1"
      },
      "source": [
        "# Note the following factorization of p-1.\r\n",
        "\r\n",
        "(p-1) / (2*3*5*7*11*433)"
      ],
      "execution_count": null,
      "outputs": []
    },
    {
      "cell_type": "code",
      "metadata": {
        "id": "tmn4QaBbe6Oq"
      },
      "source": [
        "is_mrprime(433)"
      ],
      "execution_count": null,
      "outputs": []
    },
    {
      "cell_type": "code",
      "metadata": {
        "id": "NU7OUxf6e9Dc"
      },
      "source": [
        "# We will take q to be the largest prime dividing p-1\r\n",
        "# g is an element of order q in F_p^\\times\r\n",
        "\r\n",
        "q=433\r\n",
        "g = power(g1, (p-1)//q, p)\r\n",
        "\r\n",
        "print('p =', p)\r\n",
        "print('q =', q)\r\n",
        "print('g =', g)\r\n",
        "\r\n",
        "# Samantha chooses a secret signing exponent, and publishes A = g^a mod p\r\n",
        "a = random.randint(2, q-1)\r\n",
        "A = power(g, a, p)\r\n",
        "print('A =', A)\r\n",
        "\r\n",
        "# Document to be signed\r\n",
        "D = random.randint(1, q-1)\r\n",
        "print('D =', D)\r\n",
        "\r\n",
        "# Samantha's signiture, using a random k\r\n",
        "k = random.randint(2, q-1)\r\n",
        "S1 = power(g, k, p) % q\r\n",
        "S2 = ((D + a*S1) * power(k, q-2, q)) % q\r\n",
        "print('(S1, S2) =', (S1, S2))\r\n",
        "\r\n",
        "# Victor verifies:\r\n",
        "V1 = (D * power(S2, q-2, q)) % q\r\n",
        "V2 = (S1 * power(S2, q-2, q)) % q\r\n",
        "print('Verified?:', S1 == ((power(g, V1, p)*power(A, V2, p))%p)%q )"
      ],
      "execution_count": null,
      "outputs": []
    },
    {
      "cell_type": "code",
      "metadata": {
        "id": "8kDhgyadi9YE"
      },
      "source": [
        ""
      ],
      "execution_count": null,
      "outputs": []
    }
  ]
}
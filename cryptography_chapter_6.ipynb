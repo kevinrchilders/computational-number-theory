{
  "nbformat": 4,
  "nbformat_minor": 0,
  "metadata": {
    "colab": {
      "name": "cryptography-chapter-6.ipynb",
      "private_outputs": true,
      "provenance": [],
      "collapsed_sections": [],
      "authorship_tag": "ABX9TyN/Zx4I5GKCo4DkfxFhN/aI",
      "include_colab_link": true
    },
    "kernelspec": {
      "name": "python3",
      "display_name": "Python 3"
    }
  },
  "cells": [
    {
      "cell_type": "markdown",
      "metadata": {
        "id": "view-in-github",
        "colab_type": "text"
      },
      "source": [
        "<a href=\"https://colab.research.google.com/github/kevinrchilders/computational-number-theory/blob/master/cryptography_chapter_6.ipynb\" target=\"_parent\"><img src=\"https://colab.research.google.com/assets/colab-badge.svg\" alt=\"Open In Colab\"/></a>"
      ]
    },
    {
      "cell_type": "code",
      "metadata": {
        "id": "WuP2Q3Cw0W1T"
      },
      "source": [
        "import matplotlib.pyplot as plt\n",
        "import numpy as np\n",
        "import random"
      ],
      "execution_count": null,
      "outputs": []
    },
    {
      "cell_type": "code",
      "metadata": {
        "id": "FvABkfOoG8EN"
      },
      "source": [
        "def power(a, b, n):\n",
        "  a = a%n\n",
        "  return 1 if b==0 else a**(b%2) * power(a**2, b//2, n) % n\n",
        "\n",
        "def gcd(a, b):\n",
        "  return a if b==0 else gcd(b, a%b)\n",
        "\n",
        "def extended_gcd(a, b):\n",
        "  u, g, x, y = 1, a, 0, b\n",
        "  while y != 0:\n",
        "    q, t = g // y, g % y\n",
        "    s = u - q*x\n",
        "    u, g, x, y = x, y, s, t\n",
        "  v = (g - a*u) // b \n",
        "  return g, u, v\n",
        "\n",
        "def inverse(a, N):\n",
        "  a = a%N\n",
        "  g, u, v = extended_gcd(a, N)\n",
        "  if g==1:\n",
        "    return u % N\n",
        "    \n",
        "def order(a, p):\n",
        "  n = 1\n",
        "  x = a\n",
        "  while power(a, n, p) != 1:\n",
        "    x = (x * a) % p\n",
        "    n += 1\n",
        "  return n\n",
        "\n",
        "def is_primitive(a, p):\n",
        "  return order(a, p) == p-1\n",
        "\n",
        "def is_mrprime(n, trials=50):\n",
        "  for i in range(trials):\n",
        "    a = random.randint(1, n-1)\n",
        "    if is_mrwitness(a, n):\n",
        "      return False\n",
        "  return True\n",
        "\n",
        "def generate_prime(digits, attempts=100):\n",
        "  N = 2 * 3 * 5\n",
        "  for K in range(int(10**(digits)/N), int(10**(digits)/N)+attempts):\n",
        "    if is_mrprime(N*K + 1):\n",
        "      return N*K + 1\n",
        "  print('No primes found. Try more attempts.')\n",
        "  return None\n",
        "\n",
        "def is_mrwitness(a, n):\n",
        "  # If a and n have a common factor, then n is composite\n",
        "  if gcd(a, n) != 1:\n",
        "    return True\n",
        "\n",
        "  # Write n-1 = 2^k*q with q odd\n",
        "  k=0\n",
        "  q=n-1\n",
        "  while q%2 == 0:\n",
        "    k += 1\n",
        "    q = q//2\n",
        "  \n",
        "  # If a^q == 1 (mod n) then a is not a Miller-Rabin witness for n\n",
        "  a = power(a, q, n)\n",
        "  if a == 1:\n",
        "    return False\n",
        "  \n",
        "  # If a^(2^iq) == -1 (mod n) for some i<k then a is not a Miller-Rabin witness for n\n",
        "  for i in range(k):\n",
        "    if a == n-1:\n",
        "      return False\n",
        "    a = power(a, 2, n)\n",
        "\n",
        "  return True # Otherwise a is a Miller-Rabin witness for n\n",
        "\n",
        "def pollard(N, a=2, maxn=1000000):\n",
        "  for j in range(2, maxn):\n",
        "    a = power(a, j, N)\n",
        "    d = gcd(a-1, N)\n",
        "    if d != 1 and d != N:\n",
        "      return d\n",
        "  print('Test failed, try a larger maxn.')\n",
        "  return None\n",
        "\n",
        "def find_primitive(p):\n",
        "  a = 2\n",
        "  while not is_primitive(a, p):\n",
        "    a += 1\n",
        "  return a\n",
        "\n",
        "def collision_dlp(g, h, p, ord=None):\n",
        "  if ord==None:\n",
        "    ord = p-1\n",
        "\n",
        "  Y = [random.randint(1,ord) for _ in range(int(3*math.sqrt(ord)))]  # Random exponents y\n",
        "  gY = [power(g, y, p) for y in Y]                                  # g^y\n",
        "  Z = [random.randint(1,ord) for _ in range(int(3*math.sqrt(ord)))]  # Random exponents z\n",
        "  gZh = [(power(g, z, p)*h)%p for z in Z]                           # g^z*h\n",
        "\n",
        "  # Find a common element of gY and gZh\n",
        "  A = sorted(list(set(gY))+list(set(gZh)))\n",
        "  i=0\n",
        "  while A[i] != A[i+1]:\n",
        "    i += 1\n",
        "  common = A[i]\n",
        "\n",
        "  # Find g^y = g^z*h\n",
        "  i=0\n",
        "  while gY[i] != common:\n",
        "    i += 1\n",
        "  j=0\n",
        "  while gZh[j] != common:\n",
        "    j += 1\n",
        "\n",
        "  return (Y[i] - Z[j])%(ord)  # Return y-z"
      ],
      "execution_count": null,
      "outputs": []
    },
    {
      "cell_type": "markdown",
      "metadata": {
        "id": "W1xrnXGk8E8y"
      },
      "source": [
        "# Addition on elliptic curves"
      ]
    },
    {
      "cell_type": "code",
      "metadata": {
        "id": "3f0_9Bxu0bdc"
      },
      "source": [
        "# An algorithm for adding points P and Q on an elliptic curve\n",
        "# with Weierstrauss equation Y^2 = X^3 + A*X + B\n",
        "\n",
        "def ec_add(P, Q, A, B):\n",
        "  if P == 'O':\n",
        "    return Q\n",
        "  if Q == 'O':\n",
        "    return P\n",
        "  x1, y1 = P\n",
        "  x2, y2 = Q\n",
        "  if x1 == x2:\n",
        "    if y1 == -1 * y2:\n",
        "      return 'O' \n",
        "    slope = (3*x1*x1 + A)/2/y1\n",
        "  else:\n",
        "    slope = (y2 - y1)/(x2 - x1)\n",
        "  x3 = slope**2 - x1 - x2\n",
        "  y3 = slope*(x1 - x3) - y1\n",
        "  return (x3, y3)"
      ],
      "execution_count": null,
      "outputs": []
    },
    {
      "cell_type": "code",
      "metadata": {
        "id": "7dwJIfvz2EeJ"
      },
      "source": [
        "# A plot of Y^2 = X^3 - X + 6\n",
        "\n",
        "A = -1\n",
        "B = 6\n",
        "X1 = np.linspace(-2,4,601)\n",
        "X2 = np.flip(X1)[:-1]\n",
        "X = np.concatenate((X2, X1))\n",
        "Y1 = np.sqrt(X1**3 + A*X1 + B)\n",
        "Y2 = -1*np.sqrt(X2**3 + A*X2 + B)\n",
        "Y = np.concatenate((Y2, Y1))\n",
        "\n",
        "plt.figure(figsize=(12,8))\n",
        "plt.plot(X, Y)"
      ],
      "execution_count": null,
      "outputs": []
    },
    {
      "cell_type": "code",
      "metadata": {
        "id": "COQnv36v3Qqf"
      },
      "source": [
        "# Some sample additions\n",
        "O = 'O'\n",
        "ec_add(O, O, A, B)"
      ],
      "execution_count": null,
      "outputs": []
    },
    {
      "cell_type": "code",
      "metadata": {
        "id": "aFjE5W9049E2"
      },
      "source": [
        "P = (-2, 0)\n",
        "ec_add(P, O, A, B)"
      ],
      "execution_count": null,
      "outputs": []
    },
    {
      "cell_type": "code",
      "metadata": {
        "id": "csrQsLuW5PbG"
      },
      "source": [
        "ec_add(O, P, A, B)"
      ],
      "execution_count": null,
      "outputs": []
    },
    {
      "cell_type": "code",
      "metadata": {
        "id": "MdkXS93d5TBZ"
      },
      "source": [
        "ec_add(P, P, A, B)"
      ],
      "execution_count": null,
      "outputs": []
    },
    {
      "cell_type": "code",
      "metadata": {
        "id": "wFZn3JFx5WEH"
      },
      "source": [
        "Q = (3, -1*np.sqrt(3**3 + A*3 + B))\n",
        "print(Q)\n",
        "sum = ec_add(P, Q, A, B)\n",
        "sum"
      ],
      "execution_count": null,
      "outputs": []
    },
    {
      "cell_type": "code",
      "metadata": {
        "id": "VCbsadrx5w4S"
      },
      "source": [
        "# A plot to show that P + Q = sum\n",
        "plt.figure(figsize=(12,8))\n",
        "plt.plot(X, Y)\n",
        "plt.plot(*zip(P, Q))\n",
        "plt.plot([sum[0], sum[0]], [sum[1],-1*sum[1]])\n",
        "plt.scatter(*zip(P, Q, sum))"
      ],
      "execution_count": null,
      "outputs": []
    },
    {
      "cell_type": "code",
      "metadata": {
        "id": "yKs5vz1V6jT0"
      },
      "source": [
        "# Check of associativity\n",
        "R = (1, np.sqrt(1**3 + A*1 + B))\n",
        "ec_add(P, ec_add(Q, R, A, B), A, B), ec_add(ec_add(P, Q, A, B), R, A, B)"
      ],
      "execution_count": null,
      "outputs": []
    },
    {
      "cell_type": "markdown",
      "metadata": {
        "id": "ZCiuGcZ0FJF5"
      },
      "source": [
        "# Elliptic curves over finite fields"
      ]
    },
    {
      "cell_type": "code",
      "metadata": {
        "id": "h1nCC4NQ7JWX"
      },
      "source": [
        "# An algorithm for adding points P and Q on an elliptic curve\n",
        "# with Weierstrauss equation Y^2 = X^3 + A*X + B (mod p)\n",
        "\n",
        "def ecp_add(P, Q, A, B, p):\n",
        "  if P == 'O':\n",
        "    return Q\n",
        "  if Q == 'O':\n",
        "    return P\n",
        "  x1, y1 = P\n",
        "  x2, y2 = Q\n",
        "  x1, y1, x2, y2 = x1%p, y1%p, x2%p, y2%p\n",
        "  if x1 == x2:\n",
        "    if y1 == (-1 * y2) % p:\n",
        "      return 'O' \n",
        "    slope = ((3*x1*x1 + A)*inverse(2*y1,p)) % p\n",
        "  else:\n",
        "    slope = ((y2 - y1)*inverse(x2 - x1, p)) % p\n",
        "  x3 = (slope**2 - x1 - x2) % p\n",
        "  y3 = (slope*(x1 - x3) - y1) % p\n",
        "  return (x3, y3)"
      ],
      "execution_count": null,
      "outputs": []
    },
    {
      "cell_type": "code",
      "metadata": {
        "id": "p8UilQ9AHNFX"
      },
      "source": [
        "# Y^2 = X^3 +3*X + 8 over F_13\n",
        "p = 13\n",
        "A = 3\n",
        "B = 8\n",
        "\n",
        "O = 'O'\n",
        "P = (1, 5)\n",
        "Q = (1, 8)\n",
        "ecp_add(O, O, A, B, p), ecp_add(P, O, A, B, p), ecp_add(P, Q, A, B, p)"
      ],
      "execution_count": null,
      "outputs": []
    },
    {
      "cell_type": "code",
      "metadata": {
        "id": "A89nXFGxIJ0v"
      },
      "source": [
        "# Here's a plot.  It looks strangely similar to a few points on a characteristic 0 elliptic curve.\n",
        "\n",
        "E = [(1, 5), (1, 8), (2, 3), (2, 10), (9, 6), (9, 7), (12, 2), (12, 11), 'O']\n",
        "plt.figure(figsize=(12,8))\n",
        "plt.scatter(*zip(*E[:-1]))"
      ],
      "execution_count": null,
      "outputs": []
    },
    {
      "cell_type": "code",
      "metadata": {
        "id": "eaNeY90GJHfE"
      },
      "source": [
        "# An algorithm for finding all points on a curve Y^2 = X^3 + A*X + B over F_p\n",
        "\n",
        "def ecp_find_points(A, B, p):\n",
        "  roots = {0:[0]}\n",
        "  for i in range(1,(p+1)//2):\n",
        "    roots[power(i, 2, p)] = [i, (-1*i)%p]\n",
        "  E = []\n",
        "  for x in range(p):\n",
        "    y_squared = (x**3 + A*x + B) % p\n",
        "    if y_squared in roots.keys():\n",
        "      for y in roots[y_squared]:\n",
        "        E = E + [(x, y)]\n",
        "  return E + ['O']"
      ],
      "execution_count": null,
      "outputs": []
    },
    {
      "cell_type": "code",
      "metadata": {
        "id": "Ct6inRB3MeQH"
      },
      "source": [
        "ecp_find_points(3, 8, 13)"
      ],
      "execution_count": null,
      "outputs": []
    },
    {
      "cell_type": "code",
      "metadata": {
        "id": "4rDRuVzHMiGy"
      },
      "source": [
        "# With a bigger example, we can see that the above example was just a coincidence.\n",
        "\n",
        "E = ecp_find_points(3, 8, 1009)\n",
        "plt.figure(figsize=(12,8))\n",
        "plt.scatter(*zip(*E[:-1]))"
      ],
      "execution_count": null,
      "outputs": []
    },
    {
      "cell_type": "markdown",
      "metadata": {
        "id": "SnhyKohBjSHs"
      },
      "source": [
        "# Multiples of points on elliptic curves over $\\mathbb F_p$"
      ]
    },
    {
      "cell_type": "code",
      "metadata": {
        "id": "Y0ogDGeNQl8N"
      },
      "source": [
        "# Reminder of our square-and-multiply algorithm for fast powers in F_p\n",
        "# and a similar double-and-add algorithm for fast multiples in E(F_p)\n",
        "\n",
        "def binary(n):\n",
        "  binary_repn = []\n",
        "  if n > 1:\n",
        "    binary_repn = binary(n // 2)\n",
        "  binary_repn.append(n % 2)\n",
        "  return binary_repn\n",
        "\n",
        "def power(g, A, N):\n",
        "  A = binary(A)\n",
        "  total=1\n",
        "  for i in range(len(A)):\n",
        "    if A[len(A)-i-1]:\n",
        "      total = (total*g) % N\n",
        "    g = (g*g) % N\n",
        "  return total\n",
        "\n",
        "def ecp_multiple(P, n, A, B, p):\n",
        "  n = binary(n)\n",
        "  total = 'O'\n",
        "  for i in range(len(n)):\n",
        "    if n[len(n)-i-1]:\n",
        "      total = ecp_add(total, P, A, B, p)\n",
        "    P = ecp_add(P, P, A, B, p)\n",
        "  return total\n",
        "\n",
        "# Written more compactly\n",
        "\n",
        "def power(a, b, n):\n",
        "  a = a%n\n",
        "  return 1 if b==0 else a**(b%2) * power(a**2, b//2, n) % n\n",
        "\n",
        "def ecp_multiple(P, n, A, B, p):\n",
        "  if n==0: return 'O'\n",
        "  if n==1: return P\n",
        "  return ecp_add(ecp_multiple(P, n%2, A, B, p), ecp_multiple(ecp_add(P, P, A, B, p), n//2, A, B, p), A, B, p)"
      ],
      "execution_count": null,
      "outputs": []
    },
    {
      "cell_type": "code",
      "metadata": {
        "id": "s2j_wbmFjt_2"
      },
      "source": [
        "# An example\n",
        "P = (1, 5)\n",
        "A = 3\n",
        "B = 8\n",
        "p = 13\n",
        "O = 'O'\n",
        "ecp_add(ecp_add(P, P, A, B, p), P, A, B, p)"
      ],
      "execution_count": null,
      "outputs": []
    },
    {
      "cell_type": "code",
      "metadata": {
        "id": "GEwTmyYcj03c"
      },
      "source": [
        "ecp_multiple(P, 3, A, B, p)"
      ],
      "execution_count": null,
      "outputs": []
    },
    {
      "cell_type": "markdown",
      "metadata": {
        "id": "10sYIcjREXc-"
      },
      "source": [
        "# Elliptic curve cryptography"
      ]
    },
    {
      "cell_type": "code",
      "metadata": {
        "id": "V1tNKXxEEbzo"
      },
      "source": [
        "# P is some point on E(F_p) where E: Y^2 = X^3 + A*X + B.\n",
        "\n",
        "p = 32413\n",
        "print('p =', p)\n",
        "\n",
        "A = 21058\n",
        "B = 29363\n",
        "P = (14983, 27986)\n",
        "\n",
        "print('E: Y^2 = X^3 +', A, 'X +', B)\n",
        "print('P =', P)"
      ],
      "execution_count": null,
      "outputs": []
    },
    {
      "cell_type": "code",
      "metadata": {
        "id": "UBKpKUruEb2W"
      },
      "source": [
        "# Elliptic Diffie-Hellman key exchange\n",
        "\n",
        "print('p =', p)\n",
        "print('E: Y^2 = X^3 +', A, 'X +', B)\n",
        "print('P =', P)\n",
        "print()\n",
        "\n",
        "nA = random.randint(1, p)\n",
        "QA = ecp_multiple(P, nA, A, B, p)\n",
        "print('QA =', QA)\n",
        "nB = random.randint(1, p)\n",
        "QB = ecp_multiple(P, nB, A, B, p)\n",
        "print('QB =', QB)\n",
        "print()\n",
        "\n",
        "print('(secret key according to Alice:', ecp_multiple(QB, nA, A, B, p), ')')\n",
        "\n",
        "print('(secret key according to Bob:', ecp_multiple(QA, nB, A, B, p), ')')"
      ],
      "execution_count": null,
      "outputs": []
    },
    {
      "cell_type": "code",
      "metadata": {
        "id": "u29khLIhID4X"
      },
      "source": [
        "# Another point unrelated to P\n",
        "\n",
        "M = (25639, 10317)"
      ],
      "execution_count": null,
      "outputs": []
    },
    {
      "cell_type": "code",
      "metadata": {
        "id": "oZ4mT1oxEb5X"
      },
      "source": [
        "# Elliptic Elgamal\n",
        "\n",
        "print('p =', p)\n",
        "print('E: Y^2 = X^3 +', A, 'X +', B)\n",
        "print('P =', P)\n",
        "print('QA =', QA)\n",
        "print()\n",
        "\n",
        "k = random.randint(1, p)\n",
        "C1 = ecp_multiple(P, k, A, B, p)\n",
        "C2 = ecp_add(M, ecp_multiple(QA, k, A, B, p), A, B, p)\n",
        "print('Ciphertext:', (C1, C2))\n",
        "print()\n",
        "\n",
        "m = ecp_add(C2, ecp_multiple((C1[0], -1*C1[1]), nA, A, B, p), A, B, p)\n",
        "print('(Message decrypted by Alice:', m, ')')"
      ],
      "execution_count": null,
      "outputs": []
    },
    {
      "cell_type": "code",
      "metadata": {
        "id": "UC9Yo7wlL6dV"
      },
      "source": [
        "# The next few cells find a point G of some prime order q.\n",
        "\n",
        "for i in range(50000):\n",
        "  if ecp_multiple(P, i, A, B, p) == 'O':\n",
        "    print(i)"
      ],
      "execution_count": null,
      "outputs": []
    },
    {
      "cell_type": "code",
      "metadata": {
        "id": "bksPR_XML6gh"
      },
      "source": [
        "is_mrprime(32251)"
      ],
      "execution_count": null,
      "outputs": []
    },
    {
      "cell_type": "code",
      "metadata": {
        "id": "C6AdIAfgMyB2"
      },
      "source": [
        "G = P\n",
        "\n",
        "q = 32251\n",
        "ecp_multiple(G, q, A, B, p)"
      ],
      "execution_count": null,
      "outputs": []
    },
    {
      "cell_type": "code",
      "metadata": {
        "id": "Mj1occ1gNOMJ"
      },
      "source": [
        "# ECDSA\n",
        "\n",
        "print('p =', p)\n",
        "print('E: Y^2 = X^3 +', A, 'X +', B)\n",
        "print('G =', G)\n",
        "print('q =', q)\n",
        "\n",
        "s = random.randint(2, q-1)\n",
        "V = ecp_multiple(G, s, A, B, p)\n",
        "print('V =', V)\n",
        "print()\n",
        "\n",
        "D = random.randint(1, q)\n",
        "print('D =', D)\n",
        "e = random.randint(1, q-1)\n",
        "S1 = ecp_multiple(G, e, A, B, p)[0] % q\n",
        "S2 = (D + s*S1)*inverse(e, q) % q\n",
        "print('(S1, S2) =', (S1, S2))\n",
        "print()\n",
        "\n",
        "V1 = D*inverse(S2, q) % q\n",
        "V2 = S1*inverse(S2, q) % q\n",
        "print('Sent by Samantha?:', S1 == ecp_add(ecp_multiple(G, V1, A, B, p), ecp_multiple(V, V2, A, B, p), A, B, p)[0] % q)"
      ],
      "execution_count": null,
      "outputs": []
    },
    {
      "cell_type": "code",
      "metadata": {
        "id": "Yq-vFZqyIUoi"
      },
      "source": [
        "# Brute force attack on ECDLP\n",
        "\n",
        "print('p =', p)\n",
        "print('E: Y^2 = X^3 +', A, 'X +', B)\n",
        "print('P =', P)\n",
        "print('QA =', QA)\n",
        "print()\n",
        "\n",
        "for i in range(q):\n",
        "  if ecp_multiple(P, i, A, B, p) == QA:\n",
        "    print(i)"
      ],
      "execution_count": null,
      "outputs": []
    },
    {
      "cell_type": "code",
      "metadata": {
        "id": "Iw3sCDUMI6uo"
      },
      "source": [
        "# Does 22482 P = QA?\n",
        "\n",
        "ecp_multiple(P, 22482, A, B, p) == QA\n",
        "nA"
      ],
      "execution_count": null,
      "outputs": []
    },
    {
      "cell_type": "markdown",
      "metadata": {
        "id": "QL1SX5Jey54G"
      },
      "source": [
        "# Elliptic curve factorization"
      ]
    },
    {
      "cell_type": "code",
      "metadata": {
        "id": "Os2K_DQekxv1"
      },
      "source": [
        "A = 3\n",
        "B = 7\n",
        "N = 187\n",
        "P = (38, 112)\n",
        "P2 = ecp_add(P, P, A, B, N)\n",
        "P2"
      ],
      "execution_count": null,
      "outputs": []
    },
    {
      "cell_type": "code",
      "metadata": {
        "id": "5wvBjgXmzFdE"
      },
      "source": [
        "P3 = ecp_add(P, P2, A, B, N)\n",
        "P3"
      ],
      "execution_count": null,
      "outputs": []
    },
    {
      "cell_type": "code",
      "metadata": {
        "id": "NLJgBcPmzMs_"
      },
      "source": [
        "P5 = ecp_add(P2, P3, A, B, N)"
      ],
      "execution_count": null,
      "outputs": []
    },
    {
      "cell_type": "code",
      "metadata": {
        "id": "B3U7cgOqzQv5"
      },
      "source": [
        "x1, y1 = P2\n",
        "x2, y2 = P3\n",
        "x2-x1"
      ],
      "execution_count": null,
      "outputs": []
    },
    {
      "cell_type": "code",
      "metadata": {
        "id": "AoT-fpPRzj8R"
      },
      "source": [
        "print(inverse(11, N))"
      ],
      "execution_count": null,
      "outputs": []
    },
    {
      "cell_type": "code",
      "metadata": {
        "id": "tjReEMTFzl9-"
      },
      "source": [
        "N/11"
      ],
      "execution_count": null,
      "outputs": []
    },
    {
      "cell_type": "code",
      "metadata": {
        "id": "yiz0zIRGzq9p"
      },
      "source": [
        "def inverse(a, p):\n",
        "  a = a%p\n",
        "  g, u, v = extended_gcd(a, p)\n",
        "  if g==1:\n",
        "    return u\n",
        "  print(a, 'has no inverse mod', p)"
      ],
      "execution_count": null,
      "outputs": []
    },
    {
      "cell_type": "code",
      "metadata": {
        "id": "N3YjdjQi0DQ2"
      },
      "source": [
        "P5 = ecp_add(P2, P3, A, B, N)\n",
        "P5"
      ],
      "execution_count": null,
      "outputs": []
    },
    {
      "cell_type": "code",
      "metadata": {
        "id": "6_vT_6Dv0Jhs"
      },
      "source": [
        "# Note that P = (5, 2) mod 11\n",
        "ecp_multiple((5, 2), 5, A, B, 11)"
      ],
      "execution_count": null,
      "outputs": []
    },
    {
      "cell_type": "code",
      "metadata": {
        "id": "e9zN0wdV6vO6"
      },
      "source": [
        "def ec_factor(N, maxn=10000):\n",
        "  A = random.randint(1,N)\n",
        "  P = (random.randint(1,N), random.randint(1,N))\n",
        "  B = (P[1]**2 - P[0]**3 - A*P[0]) % N          # Chosen so that P is on E: Y^2 = X^3 + AX + B\n",
        "  try:\n",
        "    for j in range(2, maxn):\n",
        "      P = ecp_multiple(P, j, A, B, N)           # Computing j!P\n",
        "    print('Test failed, try a larger maxn.')\n",
        "  except:\n",
        "    return\n",
        "\n",
        "def pollard(N, a=2, maxn=100000):\n",
        "  for j in range(2, maxn):\n",
        "    a = power(a, j, N)\n",
        "    d = gcd(a-1, N)\n",
        "    if d != 1 and d != N:\n",
        "      return d\n",
        "  print('Test failed, try a larger maxn.')"
      ],
      "execution_count": null,
      "outputs": []
    },
    {
      "cell_type": "code",
      "metadata": {
        "id": "OslF-dIP7xr_"
      },
      "source": [
        "ec_factor(187)"
      ],
      "execution_count": null,
      "outputs": []
    },
    {
      "cell_type": "code",
      "metadata": {
        "id": "aA-F-Geo5tC9"
      },
      "source": [
        "gcd(119, 187)"
      ],
      "execution_count": null,
      "outputs": []
    },
    {
      "cell_type": "code",
      "metadata": {
        "id": "EYAsiv_F8pcC"
      },
      "source": [
        "pollard(187)"
      ],
      "execution_count": null,
      "outputs": []
    },
    {
      "cell_type": "code",
      "metadata": {
        "id": "bJDZ5VG999pb"
      },
      "source": [
        "pollard(1000003*1000033)"
      ],
      "execution_count": null,
      "outputs": []
    },
    {
      "cell_type": "code",
      "metadata": {
        "id": "moepaRH4-cxo"
      },
      "source": [
        "ec_factor(1000003*1000033)"
      ],
      "execution_count": null,
      "outputs": []
    },
    {
      "cell_type": "code",
      "metadata": {
        "id": "Ca5nyVqi_7Xw"
      },
      "source": [
        "gcd(875183880115, 1000036000099)"
      ],
      "execution_count": null,
      "outputs": []
    },
    {
      "cell_type": "code",
      "metadata": {
        "id": "8NsW6ulsC_27"
      },
      "source": [
        "def ecp_add(P, Q, A, B, p):\n",
        "  try:\n",
        "    if P == 'O':\n",
        "      return Q\n",
        "    if Q == 'O':\n",
        "      return P\n",
        "    x1, y1 = P\n",
        "    x2, y2 = Q\n",
        "    x1, y1, x2, y2 = x1%p, y1%p, x2%p, y2%p\n",
        "    if x1 == x2:\n",
        "      if y1 == (-1 * y2) % p:\n",
        "        return 'O' \n",
        "      slope = ((3*x1*x1 + A)*inverse(2*y1,p)) % p\n",
        "    else:\n",
        "      slope = ((y2 - y1)*inverse(x2 - x1, p)) % p\n",
        "    x3 = (slope**2 - x1 - x2) % p\n",
        "    y3 = (slope*(x1 - x3) - y1) % p\n",
        "    return (x3, y3)\n",
        "  except:\n",
        "    return gcd(x2-x1, p)\n",
        "\n",
        "def ecp_multiple(P, n, A, B, p):\n",
        "  try:\n",
        "    n = binary(n)\n",
        "    total = 'O'\n",
        "    for i in range(len(n)):\n",
        "      if n[len(n)-i-1]:\n",
        "        total = ecp_add(total, P, A, B, p)\n",
        "      P = ecp_add(P, P, A, B, p)\n",
        "    return total\n",
        "  except:\n",
        "    return total\n",
        "\n",
        "def ec_factor(N, maxn=10000):\n",
        "  A = random.randint(1,N)\n",
        "  P = (random.randint(1,N), random.randint(1,N))\n",
        "  B = (P[1]**2 - P[0]**3 - A*P[0]) % N\n",
        "  for j in range(2, maxn):\n",
        "    P = ecp_multiple(P, j, A, B, N)\n",
        "    if type(P) is int:\n",
        "      return P\n",
        "  print('Test failed, try a larger maxn.')\n",
        "\n",
        "def inverse(a, p):\n",
        "  a = a%p\n",
        "  g, u, v = extended_gcd(a, p)\n",
        "  if g==1:\n",
        "    return u"
      ],
      "execution_count": null,
      "outputs": []
    },
    {
      "cell_type": "code",
      "metadata": {
        "id": "QxrUijm5G6ch"
      },
      "source": [
        "ec_factor(1000003*1000033)"
      ],
      "execution_count": null,
      "outputs": []
    },
    {
      "cell_type": "code",
      "metadata": {
        "id": "Ty5bEMOYH40X"
      },
      "source": [
        "%%time\n",
        "pollard(3267000013*5754853343)"
      ],
      "execution_count": null,
      "outputs": []
    },
    {
      "cell_type": "code",
      "metadata": {
        "id": "l1Q-8R_uIDEo"
      },
      "source": [
        "%%time\n",
        "ec_factor(3267000013*5754853343)"
      ],
      "execution_count": null,
      "outputs": []
    },
    {
      "cell_type": "code",
      "metadata": {
        "id": "yZUzAs1DIGBF"
      },
      "source": [
        "def factor(N):\n",
        "  if is_mrprime(N):\n",
        "    return [N]\n",
        "  small_primes = {2, 3, 5, 7, 11, 13, 17, 19, 23, 29, 31}\n",
        "  for p in small_primes:\n",
        "    if N % p == 0:\n",
        "      return [p] + factor(N // p)\n",
        "  try:\n",
        "    print('Trying Pollard on', N)\n",
        "    p = pollard(N)\n",
        "    return sorted(factor(p) + factor(N // p))\n",
        "  except:\n",
        "    try:\n",
        "      print('Trying elliptic curves on', N)\n",
        "      p = ec_factor(N)\n",
        "      return sorted(factor(p) + factor(N // p))\n",
        "    except:\n",
        "      print('Partial factorization found:')\n",
        "      return [N]"
      ],
      "execution_count": null,
      "outputs": []
    },
    {
      "cell_type": "code",
      "metadata": {
        "id": "lv4Bpti4NDmp"
      },
      "source": [
        "factor(4789342352)"
      ],
      "execution_count": null,
      "outputs": []
    },
    {
      "cell_type": "code",
      "metadata": {
        "id": "pdYrxOFUJeto"
      },
      "source": [
        "is_mrprime(280013)"
      ],
      "execution_count": null,
      "outputs": []
    },
    {
      "cell_type": "code",
      "metadata": {
        "id": "I71SJY2ZNUz3"
      },
      "source": [
        "factor(56819237489)"
      ],
      "execution_count": null,
      "outputs": []
    },
    {
      "cell_type": "code",
      "metadata": {
        "id": "9I7weICKOcE0"
      },
      "source": [
        "factor(1561892637891751892743)"
      ],
      "execution_count": null,
      "outputs": []
    },
    {
      "cell_type": "code",
      "metadata": {
        "id": "3QoaxhpDOdsQ"
      },
      "source": [
        "is_mrprime(1561892637891751892743)"
      ],
      "execution_count": null,
      "outputs": []
    },
    {
      "cell_type": "code",
      "metadata": {
        "id": "NtCuiW-hOhuF"
      },
      "source": [
        "factor(138569823748975982237582934)"
      ],
      "execution_count": null,
      "outputs": []
    },
    {
      "cell_type": "code",
      "metadata": {
        "id": "1D8wQqN8Ojb7"
      },
      "source": [
        "is_mrprime(195023), is_mrprime(77815721), is_mrprime(80095964357)"
      ],
      "execution_count": null,
      "outputs": []
    },
    {
      "cell_type": "code",
      "metadata": {
        "id": "JY5yMjAYOnUX"
      },
      "source": [
        "factor(1264918273891751892738192576189237128934723895623984)"
      ],
      "execution_count": null,
      "outputs": []
    },
    {
      "cell_type": "code",
      "metadata": {
        "id": "OoajcrkCO8Yh"
      },
      "source": [
        "is_mrprime(241513), is_mrprime(191061209), is_mrprime(571094786047815554843356937909161649)"
      ],
      "execution_count": null,
      "outputs": []
    },
    {
      "cell_type": "code",
      "metadata": {
        "id": "d1r_6dZ0QkLP"
      },
      "source": [
        "2*2*2*2*3*241513*191061209*571094786047815554843356937909161649 == 1264918273891751892738192576189237128934723895623984"
      ],
      "execution_count": null,
      "outputs": []
    },
    {
      "cell_type": "code",
      "metadata": {
        "id": "MSTcdY6YPPXR"
      },
      "source": [
        "factor(157198237189561982371892561892378192561982371892561829473182975819236819237895712)"
      ],
      "execution_count": null,
      "outputs": []
    },
    {
      "cell_type": "code",
      "metadata": {
        "id": "InJu08RdE9Bd"
      },
      "source": [
        ""
      ],
      "execution_count": null,
      "outputs": []
    },
    {
      "cell_type": "code",
      "metadata": {
        "id": "4Rvw4qiiiLp4"
      },
      "source": [
        ""
      ],
      "execution_count": null,
      "outputs": []
    }
  ]
}
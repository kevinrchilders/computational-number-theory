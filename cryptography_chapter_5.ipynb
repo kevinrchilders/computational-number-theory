{
  "nbformat": 4,
  "nbformat_minor": 0,
  "metadata": {
    "colab": {
      "name": "cryptography-chapter-5.ipynb",
      "private_outputs": true,
      "provenance": [],
      "authorship_tag": "ABX9TyOerucpogCphmhGIURb29Gz",
      "include_colab_link": true
    },
    "kernelspec": {
      "name": "python3",
      "display_name": "Python 3"
    }
  },
  "cells": [
    {
      "cell_type": "markdown",
      "metadata": {
        "id": "view-in-github",
        "colab_type": "text"
      },
      "source": [
        "<a href=\"https://colab.research.google.com/github/kevinrchilders/computational-number-theory/blob/master/cryptography_chapter_5.ipynb\" target=\"_parent\"><img src=\"https://colab.research.google.com/assets/colab-badge.svg\" alt=\"Open In Colab\"/></a>"
      ]
    },
    {
      "cell_type": "code",
      "metadata": {
        "id": "T2-QvPQS41v9"
      },
      "source": [
        "import numpy as np\r\n",
        "from collections import Counter\r\n",
        "import random, math"
      ],
      "execution_count": null,
      "outputs": []
    },
    {
      "cell_type": "code",
      "metadata": {
        "id": "fM7es0bVTs3F"
      },
      "source": [
        "# Fast powering algorithm, gcd algorithms, etc.\r\n",
        "\r\n",
        "def power(a, b, n):\r\n",
        "  a = a%n\r\n",
        "  return 1 if b==0 else (a**(b%2) * power(a**2, b//2, n)) % n\r\n",
        "\r\n",
        "def gcd(a, b):\r\n",
        "  return a if b==0 else gcd(b, a%b)\r\n",
        "\r\n",
        "def extended_gcd(a, b):\r\n",
        "  u, g, x, y = 1, a, 0, b\r\n",
        "  while y != 0:\r\n",
        "    q, t = g // y, g % y\r\n",
        "    s = u - q*x\r\n",
        "    u, g, x, y = x, y, s, t\r\n",
        "  v = (g - a*u) // b \r\n",
        "  return g, u, v\r\n",
        "\r\n",
        "def inverse(a, N):\r\n",
        "  g, u, v = extended_gcd(a, N)\r\n",
        "  if g==1:\r\n",
        "    return u % N\r\n",
        "\r\n",
        "def order(a, p):\r\n",
        "  n = 1\r\n",
        "  x = a\r\n",
        "  while power(a, n, p) != 1:\r\n",
        "    x = (x * a) % p\r\n",
        "    n += 1\r\n",
        "  return n\r\n",
        "\r\n",
        "def is_primitive(a, p):\r\n",
        "  return order(a, p) == p-1\r\n",
        "\r\n",
        "def is_mrprime(n, trials=50):\r\n",
        "  for i in range(trials):\r\n",
        "    a = random.randint(1, n-1)\r\n",
        "    if is_mrwitness(a, n):\r\n",
        "      return False\r\n",
        "  return True\r\n",
        "\r\n",
        "def generate_prime(digits, attempts=100):\r\n",
        "  N = 2 * 3 * 5 * 7\r\n",
        "  for K in range(int(10**(digits)/N), int(10**(digits)/N)+attempts):\r\n",
        "    if is_mrprime(N*K + 1):\r\n",
        "      return N*K + 1\r\n",
        "  print('No primes found. Try more attempts.')\r\n",
        "  return None\r\n",
        "\r\n",
        "def is_mrwitness(a, n):\r\n",
        "  # If a and n have a common factor, then n is composite\r\n",
        "  if gcd(a, n) != 1:\r\n",
        "    return True\r\n",
        "\r\n",
        "  # Write n-1 = 2^k*q with q odd\r\n",
        "  k=0\r\n",
        "  q=n-1\r\n",
        "  while q%2 == 0:\r\n",
        "    k += 1\r\n",
        "    q = q//2\r\n",
        "  \r\n",
        "  # If a^q == 1 (mod n) then a is not a Miller-Rabin witness for n\r\n",
        "  a = power(a, q, n)\r\n",
        "  if a == 1:\r\n",
        "    return False\r\n",
        "  \r\n",
        "  # If a^(2^iq) == -1 (mod n) for some i<k then a is not a Miller-Rabin witness for n\r\n",
        "  for i in range(k):\r\n",
        "    if a == n-1:\r\n",
        "      return False\r\n",
        "    a = power(a, 2, n)\r\n",
        "\r\n",
        "  return True # Otherwise a is a Miller-Rabin witness for n\r\n",
        "\r\n",
        "def pollard(N, a=2, maxn=1000000):\r\n",
        "  for j in range(2, maxn):\r\n",
        "    a = power(a, j, N)\r\n",
        "    d = gcd(a-1, N)\r\n",
        "    if d != 1 and d != N:\r\n",
        "      return d\r\n",
        "  print('Test failed, try a larger maxn.')\r\n",
        "  return None\r\n",
        "\r\n",
        "def find_primitive(p):\r\n",
        "  a = 2\r\n",
        "  while not is_primitive(a, p):\r\n",
        "    a += 1\r\n",
        "  return a"
      ],
      "execution_count": null,
      "outputs": []
    },
    {
      "cell_type": "markdown",
      "metadata": {
        "id": "zyhLklCEAvm6"
      },
      "source": [
        "# Vigenere cipher"
      ]
    },
    {
      "cell_type": "code",
      "metadata": {
        "id": "CTm_vQOD5PkQ"
      },
      "source": [
        "# We will attempt to decrypt the following message\r\n",
        "\r\n",
        "message = 'zpgdl rjlaj kpylx zpyyg lrjgd lrzhz qyjzq repvm swrzy rigzh zvreg kwivs saolt nliuw oldie aqewf iiykh bjowr hdogc qhkwa jyagg emisr zqoqh oavlk bjofr ylvps rtgiu avmsw lzgms evwpc dmjsv jqbrn klpcf iowhv kxjbj pmfkr qthtk ozrgq ihbmq sbivd ardym qmpbu nivxm tzwqv gefjh ucbor vwpcd xuwft qmoow jipds fluqm oeavl jgqea lrkti wvext vkrrg xani'\r\n",
        "message = message.replace(' ', '')\r\n",
        "message"
      ],
      "execution_count": null,
      "outputs": []
    },
    {
      "cell_type": "code",
      "metadata": {
        "id": "wY6967zF5Yji"
      },
      "source": [
        "# An analysis of the letter frequencies\r\n",
        "\r\n",
        "counter = Counter(message)\r\n",
        "counter.most_common()\r\n",
        "print('total number of characters:', len(counter.most_common()))\r\n",
        "print('letter and percent frequency:')\r\n",
        "for (ch, i) in counter.most_common():\r\n",
        "  print(ch, round(100*i/len(message), 1))"
      ],
      "execution_count": null,
      "outputs": []
    },
    {
      "cell_type": "code",
      "metadata": {
        "id": "eKY0nvrz5gFw"
      },
      "source": [
        "# An analysis of letter frequencies for a block of Shakespeare text\r\n",
        "\r\n",
        "shake = 'From Fife, great king; Where the Norweyan banners flout the sky And fan our people cold. Norway himself, With terrible numbers, Assisted by that most disloyal traitor The thane of Cawdor, began a dismal conflict; Till that Bellonas bridegroom, lappd in proof, Confronted him with self-comparisons, Point against point rebellious, arm gainst arm. Curbing his lavish spirit: and, to conclude, The victory fell on us. Doubtful it stood;As two spent swimmers, that do cling togetherAnd choke their art. The merciless Macdonwald--Worthy to be a rebel, for to thatThe multiplying villanies of natureDo swarm upon him--from the western islesOf kerns and gallowglasses is supplied;And fortune, on his damned quarrel smiling,Showd like a rebels whore: but alls too weak:For brave Macbeth--well he deserves that name--Disdaining fortune, with his brandishd steel,Which smoked with bloody execution,Like valours minion carved out his passageTill he faced the slave;Which neer shook hands, nor bade farewell to him,Till he unseamd him from the nave to the chaps,And fixd his head upon our battlements.'\r\n",
        "shake = shake.lower()\r\n",
        "shake = shake.replace(',', '')\r\n",
        "shake = shake.replace('.', '')\r\n",
        "shake = shake.replace('-', '')\r\n",
        "shake = shake.replace(';', '')\r\n",
        "shake = shake.replace(':', '')\r\n",
        "shake = shake.replace(' ', '')\r\n",
        "counter = Counter(shake)\r\n",
        "counter.most_common()\r\n",
        "print('total number of characters:', len(counter.most_common()))\r\n",
        "print('letter and percent frequency:')\r\n",
        "for (ch, i) in counter.most_common():\r\n",
        "  print(ch, round(100*i/len(shake), 1))"
      ],
      "execution_count": null,
      "outputs": []
    },
    {
      "cell_type": "code",
      "metadata": {
        "id": "2LhnCMcq7Jzr"
      },
      "source": [
        "# A function for computing the index of coincidence (the probability that two randomly chosen characters will match)\r\n",
        "# For a random string ind_co(s) ~ 0.0385\r\n",
        "# For the English language ind_co(s) ~ 0.0685\r\n",
        "\r\n",
        "def ind_co(s):\r\n",
        "  counter = Counter(s)\r\n",
        "  frequencies = np.array(list(counter.values()))\r\n",
        "  n = len(s)\r\n",
        "  return np.sum(frequencies * (frequencies -1)) / n / (n-1)"
      ],
      "execution_count": null,
      "outputs": []
    },
    {
      "cell_type": "code",
      "metadata": {
        "id": "vV6V_Wd4_Noy"
      },
      "source": [
        "ind_co(message)"
      ],
      "execution_count": null,
      "outputs": []
    },
    {
      "cell_type": "code",
      "metadata": {
        "id": "NeBT8NEb_PpG"
      },
      "source": [
        "ind_co(shake)"
      ],
      "execution_count": null,
      "outputs": []
    },
    {
      "cell_type": "code",
      "metadata": {
        "id": "rnNNWjCN_ROD"
      },
      "source": [
        "# An attempt to guess the length of the keyword used for a Vigenere cipher using index of coincidence\r\n",
        "\r\n",
        "for k in range(3, 10):\r\n",
        "  print('k=', k, '---------------')\r\n",
        "  for i in range(k):\r\n",
        "    print(ind_co(message[i::k]))"
      ],
      "execution_count": null,
      "outputs": []
    },
    {
      "cell_type": "code",
      "metadata": {
        "id": "ZX4KFhbzASii"
      },
      "source": [
        "k = "
      ],
      "execution_count": null,
      "outputs": []
    },
    {
      "cell_type": "code",
      "metadata": {
        "id": "GY_HFgxwB0N7"
      },
      "source": [
        "def shift(s, sigma):\r\n",
        "  alphabet = 'abcdefghijklmnopqrstuvwxyz'\r\n",
        "  t=''\r\n",
        "  for i in range(len(s)):\r\n",
        "    t = t + alphabet[(alphabet.find(s[i])+sigma) % 26]\r\n",
        "  return t\r\n",
        "\r\n",
        "def mult_ind_co(s, t):\r\n",
        "  cs = Counter(s)\r\n",
        "  n = len(s)\r\n",
        "  ct = Counter(t)\r\n",
        "  m = len(t)\r\n",
        "  return np.sum([cs[key] * ct[key] for key in (cs+ct).keys()]) / n / m"
      ],
      "execution_count": null,
      "outputs": []
    },
    {
      "cell_type": "code",
      "metadata": {
        "id": "cpNAIsB-DuHY"
      },
      "source": [
        "mult_ind_co(message, shake)"
      ],
      "execution_count": null,
      "outputs": []
    },
    {
      "cell_type": "code",
      "metadata": {
        "id": "76Lwr0KLDyHN"
      },
      "source": [
        "# Use mult_ind_co to find probable shifts differences between strings si=message[i::k] as i varies\r\n",
        "\r\n",
        "for i in range(k-1):\r\n",
        "  print('i =', i, '----------------------')\r\n",
        "  for j in range(i+1,k):\r\n",
        "    for sigma in range(26):\r\n",
        "      mic = mult_ind_co(shift(message[i::k], sigma), message[j::k])\r\n",
        "      if mic > 0.06:\r\n",
        "        print('j =', j, ', shift =', sigma, ':', mic)"
      ],
      "execution_count": null,
      "outputs": []
    },
    {
      "cell_type": "code",
      "metadata": {
        "id": "04rjR5feD8cU"
      },
      "source": [
        "# Attempt to find the keyword using most probable shifts\r\n",
        "\r\n",
        "alp = 'abcdefghijklmnopqrstuvwxyz'\r\n",
        "\r\n",
        "base = alp[] + alp[] + alp[] + alp[] + alp[] + alp[] + alp[]\r\n",
        "for sigma in range(26):\r\n",
        "  print(shift(base, sigma))"
      ],
      "execution_count": null,
      "outputs": []
    },
    {
      "cell_type": "code",
      "metadata": {
        "id": "pZABWrc6FkfT"
      },
      "source": [
        "# functions to encrypt/decrypt using a Vigenere cipher\r\n",
        "\r\n",
        "def vig_encrypt(message, keyword):\r\n",
        "  alphabet = 'abcdefghijklmnopqrstuvwxyz'\r\n",
        "  n = len(message)\r\n",
        "  k = len(keyword)\r\n",
        "  c = ''\r\n",
        "  for i in range(n):\r\n",
        "    c = c + alphabet[(alphabet.find(message[i]) + alphabet.find(keyword[i%k])) % 26]\r\n",
        "  return c\r\n",
        "\r\n",
        "def vig_decrypt(message, keyword):\r\n",
        "  alphabet = 'abcdefghijklmnopqrstuvwxyz'\r\n",
        "  n = len(message)\r\n",
        "  k = len(keyword)\r\n",
        "  c = ''\r\n",
        "  for i in range(n):\r\n",
        "    c = c + alphabet[(alphabet.find(message[i]) - alphabet.find(keyword[i%k])) % 26]\r\n",
        "  return c"
      ],
      "execution_count": null,
      "outputs": []
    },
    {
      "cell_type": "code",
      "metadata": {
        "id": "O6peX3dOI58D"
      },
      "source": [
        "vig_decrypt(message, )"
      ],
      "execution_count": null,
      "outputs": []
    },
    {
      "cell_type": "markdown",
      "metadata": {
        "id": "DgHqfpRYTgv8"
      },
      "source": [
        "# Collision argument"
      ]
    },
    {
      "cell_type": "code",
      "metadata": {
        "id": "DReIZ1ADI-iP"
      },
      "source": [
        "# A probabilistic collision algorithm for the discrete log problem g^x = h mod p, where g has order ord\r\n",
        "\r\n",
        "def collision_dlp(g, h, p, ord=None):\r\n",
        "  if ord==None:\r\n",
        "    ord = p-1\r\n",
        "\r\n",
        "  Y = [random.randint(1,ord) for _ in range(int(3*math.sqrt(ord)))]  # Random exponents y\r\n",
        "  gY = [power(g, y, p) for y in Y]                                  # g^y\r\n",
        "  Z = [random.randint(1,ord) for _ in range(int(3*math.sqrt(ord)))]  # Random exponents z\r\n",
        "  gZh = [(power(g, z, p)*h)%p for z in Z]                           # g^z*h\r\n",
        "\r\n",
        "  # Find a common element of gY and gZh\r\n",
        "  A = sorted(list(set(gY))+list(set(gZh)))\r\n",
        "  i=0\r\n",
        "  while A[i] != A[i+1]:\r\n",
        "    i += 1\r\n",
        "  common = A[i]\r\n",
        "\r\n",
        "  # Find g^y = g^z*h\r\n",
        "  i=0\r\n",
        "  while gY[i] != common:\r\n",
        "    i += 1\r\n",
        "  j=0\r\n",
        "  while gZh[j] != common:\r\n",
        "    j += 1\r\n",
        "\r\n",
        "  return (Y[i] - Z[j])%(ord)  # Return y-z"
      ],
      "execution_count": null,
      "outputs": []
    },
    {
      "cell_type": "markdown",
      "metadata": {
        "id": "Y10bGqzIg96_"
      },
      "source": [
        "### 10-digit example"
      ]
    },
    {
      "cell_type": "code",
      "metadata": {
        "id": "I0I9msskVUHk"
      },
      "source": [
        "# Here's an example with a 10 digit prime.\r\n",
        "p = 3267000013\r\n",
        "g = 2"
      ],
      "execution_count": null,
      "outputs": []
    },
    {
      "cell_type": "code",
      "metadata": {
        "id": "7dSkc8baZFGD"
      },
      "source": [
        "(p-1) == (2*2*3*272250001)"
      ],
      "execution_count": null,
      "outputs": []
    },
    {
      "cell_type": "code",
      "metadata": {
        "id": "bmmvQPlyZWxm"
      },
      "source": [
        "is_mrprime(272250001)"
      ],
      "execution_count": null,
      "outputs": []
    },
    {
      "cell_type": "code",
      "metadata": {
        "id": "m9sjewNaZqUI"
      },
      "source": [
        "# We can see that g has order 4*q = (p-1)/3\r\n",
        "q = 272250001\r\n",
        "S = [1, 2, 3, 4, 6, 12, q, 2*q, 3*q, 4*q, 6*q, 12*q]\r\n",
        "for s in S:\r\n",
        "  print(s, power(g, s, p))"
      ],
      "execution_count": null,
      "outputs": []
    },
    {
      "cell_type": "code",
      "metadata": {
        "id": "7NifjDxJafeZ"
      },
      "source": [
        "# Let's take a random h so that g^x = h (mod p) has a solution\r\n",
        "h = power(g, random.randint(1, 4*q), p)\r\n",
        "h"
      ],
      "execution_count": null,
      "outputs": []
    },
    {
      "cell_type": "code",
      "metadata": {
        "id": "f9vvxN74a9Nd"
      },
      "source": [
        "%%time\r\n",
        "x = collision_dlp(g, h, p, 4*q)\r\n",
        "x"
      ],
      "execution_count": null,
      "outputs": []
    },
    {
      "cell_type": "code",
      "metadata": {
        "id": "668wJIfCbLJ4"
      },
      "source": [
        "# Double check our solution\r\n",
        "power(g, x, p) == h"
      ],
      "execution_count": null,
      "outputs": []
    },
    {
      "cell_type": "markdown",
      "metadata": {
        "id": "OSE-CSt3hBek"
      },
      "source": [
        "### 15-digit example"
      ]
    },
    {
      "cell_type": "code",
      "metadata": {
        "id": "DoSZwzgzdeL3"
      },
      "source": [
        "p = 399899999999999\r\n"
      ],
      "execution_count": null,
      "outputs": []
    },
    {
      "cell_type": "code",
      "metadata": {
        "id": "Kqs19Ltqfe9s"
      },
      "source": [
        "(p-1) == (2*61*6029*543683671)"
      ],
      "execution_count": null,
      "outputs": []
    },
    {
      "cell_type": "code",
      "metadata": {
        "id": "CxqLfA_iftMA"
      },
      "source": [
        "is_mrprime(543683671), is_mrprime(6029)"
      ],
      "execution_count": null,
      "outputs": []
    },
    {
      "cell_type": "code",
      "metadata": {
        "id": "5G3dHsg0f8x2"
      },
      "source": [
        "g = 7\r\n",
        "print(power(g, (p-1)//2, p))\r\n",
        "print(power(g, (p-1)//61, p))\r\n",
        "print(power(g, (p-1)//6029, p))\r\n",
        "print(power(g, (p-1)//543683671, p))"
      ],
      "execution_count": null,
      "outputs": []
    },
    {
      "cell_type": "code",
      "metadata": {
        "id": "k97a1rIqglZj"
      },
      "source": [
        "h = power(g, random.randint(1,(p-1)), p)\r\n",
        "h"
      ],
      "execution_count": null,
      "outputs": []
    },
    {
      "cell_type": "code",
      "metadata": {
        "id": "TlmbgjfKhIzR"
      },
      "source": [
        "%%time\r\n",
        "x = collision_dlp(g, h, p)\r\n",
        "x"
      ],
      "execution_count": null,
      "outputs": []
    },
    {
      "cell_type": "code",
      "metadata": {
        "id": "pi4-I2LszDoH"
      },
      "source": [
        ""
      ],
      "execution_count": null,
      "outputs": []
    }
  ]
}
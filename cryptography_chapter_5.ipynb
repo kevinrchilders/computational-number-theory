{
  "nbformat": 4,
  "nbformat_minor": 0,
  "metadata": {
    "colab": {
      "name": "cryptography-chapter-5.ipynb",
      "private_outputs": true,
      "provenance": [],
      "authorship_tag": "ABX9TyMy+rxhRuLEstD2exZ0cUWI",
      "include_colab_link": true
    },
    "kernelspec": {
      "name": "python3",
      "display_name": "Python 3"
    }
  },
  "cells": [
    {
      "cell_type": "markdown",
      "metadata": {
        "id": "view-in-github",
        "colab_type": "text"
      },
      "source": [
        "<a href=\"https://colab.research.google.com/github/kevinrchilders/computational-number-theory/blob/master/cryptography_chapter_5.ipynb\" target=\"_parent\"><img src=\"https://colab.research.google.com/assets/colab-badge.svg\" alt=\"Open In Colab\"/></a>"
      ]
    },
    {
      "cell_type": "code",
      "metadata": {
        "id": "T2-QvPQS41v9"
      },
      "source": [
        "import numpy as np\n",
        "from collections import Counter\n",
        "import random, math"
      ],
      "execution_count": null,
      "outputs": []
    },
    {
      "cell_type": "code",
      "metadata": {
        "id": "fM7es0bVTs3F"
      },
      "source": [
        "# Fast powering algorithm, gcd algorithms, etc.\n",
        "\n",
        "def power(a, b, n):\n",
        "  a = a%n\n",
        "  return 1 if b==0 else (a**(b%2) * power(a**2, b//2, n)) % n\n",
        "\n",
        "def gcd(a, b):\n",
        "  return a if b==0 else gcd(b, a%b)\n",
        "\n",
        "def extended_gcd(a, b):\n",
        "  u, g, x, y = 1, a, 0, b\n",
        "  while y != 0:\n",
        "    q, t = g // y, g % y\n",
        "    s = u - q*x\n",
        "    u, g, x, y = x, y, s, t\n",
        "  v = (g - a*u) // b \n",
        "  return g, u, v\n",
        "\n",
        "def inverse(a, N):\n",
        "  g, u, v = extended_gcd(a, N)\n",
        "  if g==1:\n",
        "    return u % N\n",
        "\n",
        "def order(a, p):\n",
        "  n = 1\n",
        "  x = a\n",
        "  while power(a, n, p) != 1:\n",
        "    x = (x * a) % p\n",
        "    n += 1\n",
        "  return n\n",
        "\n",
        "def is_primitive(a, p):\n",
        "  return order(a, p) == p-1\n",
        "\n",
        "def is_mrprime(n, trials=50):\n",
        "  for i in range(trials):\n",
        "    a = random.randint(1, n-1)\n",
        "    if is_mrwitness(a, n):\n",
        "      return False\n",
        "  return True\n",
        "\n",
        "def generate_prime(digits, attempts=100):\n",
        "  N = 2 * 3 * 5 * 7\n",
        "  for K in range(int(10**(digits)/N), int(10**(digits)/N)+attempts):\n",
        "    if is_mrprime(N*K + 1):\n",
        "      return N*K + 1\n",
        "  print('No primes found. Try more attempts.')\n",
        "  return None\n",
        "\n",
        "def is_mrwitness(a, n):\n",
        "  # If a and n have a common factor, then n is composite\n",
        "  if gcd(a, n) != 1:\n",
        "    return True\n",
        "\n",
        "  # Write n-1 = 2^k*q with q odd\n",
        "  k=0\n",
        "  q=n-1\n",
        "  while q%2 == 0:\n",
        "    k += 1\n",
        "    q = q//2\n",
        "  \n",
        "  # If a^q == 1 (mod n) then a is not a Miller-Rabin witness for n\n",
        "  a = power(a, q, n)\n",
        "  if a == 1:\n",
        "    return False\n",
        "  \n",
        "  # If a^(2^iq) == -1 (mod n) for some i<k then a is not a Miller-Rabin witness for n\n",
        "  for i in range(k):\n",
        "    if a == n-1:\n",
        "      return False\n",
        "    a = power(a, 2, n)\n",
        "\n",
        "  return True # Otherwise a is a Miller-Rabin witness for n\n",
        "\n",
        "def pollard(N, a=2, maxn=1000000):\n",
        "  for j in range(2, maxn):\n",
        "    a = power(a, j, N)\n",
        "    d = gcd(a-1, N)\n",
        "    if d != 1 and d != N:\n",
        "      print(j)\n",
        "      return d\n",
        "  print('Test failed, try a larger maxn.')\n",
        "  return None\n",
        "\n",
        "def find_primitive(p):\n",
        "  a = 2\n",
        "  while not is_primitive(a, p):\n",
        "    a += 1\n",
        "  return a"
      ],
      "execution_count": null,
      "outputs": []
    },
    {
      "cell_type": "markdown",
      "metadata": {
        "id": "zyhLklCEAvm6"
      },
      "source": [
        "# Vigenere cipher"
      ]
    },
    {
      "cell_type": "code",
      "metadata": {
        "id": "CTm_vQOD5PkQ"
      },
      "source": [
        "# We will attempt to decrypt the following message\n",
        "\n",
        "message = 'zpgdl rjlaj kpylx zpyyg lrjgd lrzhz qyjzq repvm swrzy rigzh zvreg kwivs saolt nliuw oldie aqewf iiykh bjowr hdogc qhkwa jyagg emisr zqoqh oavlk bjofr ylvps rtgiu avmsw lzgms evwpc dmjsv jqbrn klpcf iowhv kxjbj pmfkr qthtk ozrgq ihbmq sbivd ardym qmpbu nivxm tzwqv gefjh ucbor vwpcd xuwft qmoow jipds fluqm oeavl jgqea lrkti wvext vkrrg xani'\n",
        "message = message.replace(' ', '')\n",
        "message"
      ],
      "execution_count": null,
      "outputs": []
    },
    {
      "cell_type": "code",
      "metadata": {
        "id": "wY6967zF5Yji"
      },
      "source": [
        "# An analysis of the letter frequencies\n",
        "\n",
        "counter = Counter(message)\n",
        "counter.most_common()\n",
        "print('total number of characters:', len(counter.most_common()))\n",
        "print('letter and percent frequency:')\n",
        "for (ch, i) in counter.most_common():\n",
        "  print(ch, round(100*i/len(message), 1))"
      ],
      "execution_count": null,
      "outputs": []
    },
    {
      "cell_type": "code",
      "metadata": {
        "id": "eKY0nvrz5gFw"
      },
      "source": [
        "# An analysis of letter frequencies for a block of Shakespeare text\n",
        "\n",
        "shake = 'From Fife, great king; Where the Norweyan banners flout the sky And fan our people cold. Norway himself, With terrible numbers, Assisted by that most disloyal traitor The thane of Cawdor, began a dismal conflict; Till that Bellonas bridegroom, lappd in proof, Confronted him with self-comparisons, Point against point rebellious, arm gainst arm. Curbing his lavish spirit: and, to conclude, The victory fell on us. Doubtful it stood;As two spent swimmers, that do cling togetherAnd choke their art. The merciless Macdonwald--Worthy to be a rebel, for to thatThe multiplying villanies of natureDo swarm upon him--from the western islesOf kerns and gallowglasses is supplied;And fortune, on his damned quarrel smiling,Showd like a rebels whore: but alls too weak:For brave Macbeth--well he deserves that name--Disdaining fortune, with his brandishd steel,Which smoked with bloody execution,Like valours minion carved out his passageTill he faced the slave;Which neer shook hands, nor bade farewell to him,Till he unseamd him from the nave to the chaps,And fixd his head upon our battlements.'\n",
        "shake = shake.lower()\n",
        "shake = shake.replace(',', '')\n",
        "shake = shake.replace('.', '')\n",
        "shake = shake.replace('-', '')\n",
        "shake = shake.replace(';', '')\n",
        "shake = shake.replace(':', '')\n",
        "shake = shake.replace(' ', '')\n",
        "counter = Counter(shake)\n",
        "counter.most_common()\n",
        "print('total number of characters:', len(counter.most_common()))\n",
        "print('letter and percent frequency:')\n",
        "for (ch, i) in counter.most_common():\n",
        "  print(ch, round(100*i/len(shake), 1))"
      ],
      "execution_count": null,
      "outputs": []
    },
    {
      "cell_type": "code",
      "metadata": {
        "id": "2LhnCMcq7Jzr"
      },
      "source": [
        "# A function for computing the index of coincidence (the probability that two randomly chosen characters will match)\n",
        "# For a random string ind_co(s) ~ 0.0385\n",
        "# For the English language ind_co(s) ~ 0.0685\n",
        "\n",
        "def ind_co(s):\n",
        "  counter = Counter(s)\n",
        "  frequencies = np.array(list(counter.values()))\n",
        "  n = len(s)\n",
        "  return np.sum(frequencies * (frequencies -1)) / n / (n-1)"
      ],
      "execution_count": null,
      "outputs": []
    },
    {
      "cell_type": "code",
      "metadata": {
        "id": "vV6V_Wd4_Noy"
      },
      "source": [
        "ind_co(message)"
      ],
      "execution_count": null,
      "outputs": []
    },
    {
      "cell_type": "code",
      "metadata": {
        "id": "NeBT8NEb_PpG"
      },
      "source": [
        "ind_co(shake)"
      ],
      "execution_count": null,
      "outputs": []
    },
    {
      "cell_type": "code",
      "metadata": {
        "id": "rnNNWjCN_ROD"
      },
      "source": [
        "# An attempt to guess the length of the keyword used for a Vigenere cipher using index of coincidence\n",
        "\n",
        "for k in range(3, 10):\n",
        "  print('k=', k, '---------------')\n",
        "  for i in range(k):\n",
        "    print(ind_co(message[i::k]))"
      ],
      "execution_count": null,
      "outputs": []
    },
    {
      "cell_type": "code",
      "metadata": {
        "id": "ZX4KFhbzASii"
      },
      "source": [
        "k = 7"
      ],
      "execution_count": null,
      "outputs": []
    },
    {
      "cell_type": "code",
      "metadata": {
        "id": "GY_HFgxwB0N7"
      },
      "source": [
        "def shift(s, sigma):\n",
        "  alphabet = 'abcdefghijklmnopqrstuvwxyz'\n",
        "  t=''\n",
        "  for i in range(len(s)):\n",
        "    t = t + alphabet[(alphabet.find(s[i])+sigma) % 26]\n",
        "  return t\n",
        "\n",
        "def mut_ind_co(s, t):\n",
        "  cs = Counter(s)\n",
        "  n = len(s)\n",
        "  ct = Counter(t)\n",
        "  m = len(t)\n",
        "  return np.sum([cs[key] * ct[key] for key in (cs+ct).keys()]) / n / m"
      ],
      "execution_count": null,
      "outputs": []
    },
    {
      "cell_type": "code",
      "metadata": {
        "id": "cpNAIsB-DuHY"
      },
      "source": [
        "mut_ind_co(message, shake)"
      ],
      "execution_count": null,
      "outputs": []
    },
    {
      "cell_type": "code",
      "metadata": {
        "id": "76Lwr0KLDyHN"
      },
      "source": [
        "# Use mut_ind_co to find probable shifts differences between strings si=message[i::k] as i varies\n",
        "\n",
        "for i in range(k-1):\n",
        "  print('i =', i, '----------------------')\n",
        "  for j in range(i+1,k):\n",
        "    for sigma in range(26):\n",
        "      mic = mut_ind_co(shift(message[i::k], sigma), message[j::k])\n",
        "      if mic > 0.06:\n",
        "        print('j =', j, ', shift =', sigma, ':', mic)"
      ],
      "execution_count": null,
      "outputs": []
    },
    {
      "cell_type": "code",
      "metadata": {
        "id": "04rjR5feD8cU"
      },
      "source": [
        "# Attempt to find the keyword using most probable shifts\n",
        "\n",
        "alp = 'abcdefghijklmnopqrstuvwxyz'\n",
        "\n",
        "base = alp[0] + alp[5] + alp[25] + alp[7] + alp[1] + alp[10] + alp[15]\n",
        "for sigma in range(26):\n",
        "  print(shift(base, sigma))"
      ],
      "execution_count": null,
      "outputs": []
    },
    {
      "cell_type": "code",
      "metadata": {
        "id": "pZABWrc6FkfT"
      },
      "source": [
        "# functions to encrypt/decrypt using a Vigenere cipher\n",
        "\n",
        "def vig_encrypt(message, keyword):\n",
        "  alphabet = 'abcdefghijklmnopqrstuvwxyz'\n",
        "  n = len(message)\n",
        "  k = len(keyword)\n",
        "  c = ''\n",
        "  for i in range(n):\n",
        "    c = c + alphabet[(alphabet.find(message[i]) + alphabet.find(keyword[i%k])) % 26]\n",
        "  return c\n",
        "\n",
        "def vig_decrypt(message, keyword):\n",
        "  alphabet = 'abcdefghijklmnopqrstuvwxyz'\n",
        "  n = len(message)\n",
        "  k = len(keyword)\n",
        "  c = ''\n",
        "  for i in range(n):\n",
        "    c = c + alphabet[(alphabet.find(message[i]) - alphabet.find(keyword[i%k])) % 26]\n",
        "  return c"
      ],
      "execution_count": null,
      "outputs": []
    },
    {
      "cell_type": "code",
      "metadata": {
        "id": "O6peX3dOI58D"
      },
      "source": [
        "vig_decrypt(message, 'dickens')"
      ],
      "execution_count": null,
      "outputs": []
    },
    {
      "cell_type": "markdown",
      "metadata": {
        "id": "DgHqfpRYTgv8"
      },
      "source": [
        "# Collision argument"
      ]
    },
    {
      "cell_type": "code",
      "metadata": {
        "id": "DReIZ1ADI-iP"
      },
      "source": [
        "# A probabilistic collision algorithm for the discrete log problem g^x = h mod p, where g has order ord\n",
        "\n",
        "def collision_dlp(g, h, p, ord=None):\n",
        "  if ord==None:\n",
        "    ord = p-1\n",
        "\n",
        "  Y = [random.randint(1,ord) for _ in range(int(3*math.sqrt(ord)))]  # Random exponents y\n",
        "  gY = [power(g, y, p) for y in Y]                                  # g^y\n",
        "  Z = [random.randint(1,ord) for _ in range(int(3*math.sqrt(ord)))]  # Random exponents z\n",
        "  gZh = [(power(g, z, p)*h)%p for z in Z]                           # g^z*h\n",
        "\n",
        "  # Find a common element of gY and gZh\n",
        "  A = sorted(list(set(gY))+list(set(gZh)))\n",
        "  i=0\n",
        "  while A[i] != A[i+1]:\n",
        "    i += 1\n",
        "  common = A[i]\n",
        "\n",
        "  # Find g^y = g^z*h\n",
        "  i=0\n",
        "  while gY[i] != common:\n",
        "    i += 1\n",
        "  j=0\n",
        "  while gZh[j] != common:\n",
        "    j += 1\n",
        "\n",
        "  return (Y[i] - Z[j])%(ord)  # Return y-z"
      ],
      "execution_count": null,
      "outputs": []
    },
    {
      "cell_type": "markdown",
      "metadata": {
        "id": "Y10bGqzIg96_"
      },
      "source": [
        "### 10-digit example"
      ]
    },
    {
      "cell_type": "code",
      "metadata": {
        "id": "I0I9msskVUHk"
      },
      "source": [
        "# Here's an example with a 10 digit prime.\n",
        "p = 3267000013\n",
        "g = 2"
      ],
      "execution_count": null,
      "outputs": []
    },
    {
      "cell_type": "code",
      "metadata": {
        "id": "7dSkc8baZFGD"
      },
      "source": [
        "(p-1) == (2*2*3*272250001)"
      ],
      "execution_count": null,
      "outputs": []
    },
    {
      "cell_type": "code",
      "metadata": {
        "id": "bmmvQPlyZWxm"
      },
      "source": [
        "is_mrprime(272250001)"
      ],
      "execution_count": null,
      "outputs": []
    },
    {
      "cell_type": "code",
      "metadata": {
        "id": "m9sjewNaZqUI"
      },
      "source": [
        "# We can see that g has order 4*q = (p-1)/3\n",
        "q = 272250001\n",
        "S = [1, 2, 3, 4, 6, 12, q, 2*q, 3*q, 4*q, 6*q, 12*q]\n",
        "for s in S:\n",
        "  print(s, power(g, s, p))"
      ],
      "execution_count": null,
      "outputs": []
    },
    {
      "cell_type": "code",
      "metadata": {
        "id": "7NifjDxJafeZ"
      },
      "source": [
        "# Let's take a random h so that g^x = h (mod p) has a solution\n",
        "h = power(g, random.randint(1, 4*q), p)\n",
        "h"
      ],
      "execution_count": null,
      "outputs": []
    },
    {
      "cell_type": "code",
      "metadata": {
        "id": "f9vvxN74a9Nd"
      },
      "source": [
        "%%time\n",
        "x = collision_dlp(g, h, p, 4*q)\n",
        "x"
      ],
      "execution_count": null,
      "outputs": []
    },
    {
      "cell_type": "code",
      "metadata": {
        "id": "668wJIfCbLJ4"
      },
      "source": [
        "# Double check our solution\n",
        "power(g, x, p) == h"
      ],
      "execution_count": null,
      "outputs": []
    },
    {
      "cell_type": "markdown",
      "metadata": {
        "id": "OSE-CSt3hBek"
      },
      "source": [
        "### 15-digit example"
      ]
    },
    {
      "cell_type": "code",
      "metadata": {
        "id": "DoSZwzgzdeL3"
      },
      "source": [
        "p = 399899999999999\n"
      ],
      "execution_count": null,
      "outputs": []
    },
    {
      "cell_type": "code",
      "metadata": {
        "id": "Kqs19Ltqfe9s"
      },
      "source": [
        "(p-1) == (2*61*6029*543683671)"
      ],
      "execution_count": null,
      "outputs": []
    },
    {
      "cell_type": "code",
      "metadata": {
        "id": "CxqLfA_iftMA"
      },
      "source": [
        "is_mrprime(543683671), is_mrprime(6029)"
      ],
      "execution_count": null,
      "outputs": []
    },
    {
      "cell_type": "code",
      "metadata": {
        "id": "5G3dHsg0f8x2"
      },
      "source": [
        "g = 7\n",
        "print(power(g, (p-1)//2, p))\n",
        "print(power(g, (p-1)//61, p))\n",
        "print(power(g, (p-1)//6029, p))\n",
        "print(power(g, (p-1)//543683671, p))"
      ],
      "execution_count": null,
      "outputs": []
    },
    {
      "cell_type": "code",
      "metadata": {
        "id": "k97a1rIqglZj"
      },
      "source": [
        "h = power(g, random.randint(1,(p-1)), p)\n",
        "h"
      ],
      "execution_count": null,
      "outputs": []
    },
    {
      "cell_type": "code",
      "metadata": {
        "id": "TlmbgjfKhIzR"
      },
      "source": [
        "%%time\n",
        "x = collision_dlp(g, h, p)\n",
        "x"
      ],
      "execution_count": null,
      "outputs": []
    },
    {
      "cell_type": "code",
      "metadata": {
        "id": "pi4-I2LszDoH"
      },
      "source": [
        ""
      ],
      "execution_count": null,
      "outputs": []
    }
  ]
}
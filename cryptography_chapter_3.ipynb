{
  "nbformat": 4,
  "nbformat_minor": 0,
  "metadata": {
    "colab": {
      "name": "cryptography-chapter-3.ipynb",
      "private_outputs": true,
      "provenance": [],
      "authorship_tag": "ABX9TyOe9Ph7TVqvy/dEfRo6KAvz",
      "include_colab_link": true
    },
    "kernelspec": {
      "name": "python3",
      "display_name": "Python 3"
    }
  },
  "cells": [
    {
      "cell_type": "markdown",
      "metadata": {
        "id": "view-in-github",
        "colab_type": "text"
      },
      "source": [
        "<a href=\"https://colab.research.google.com/github/kevinrchilders/computational-number-theory/blob/master/cryptography_chapter_3.ipynb\" target=\"_parent\"><img src=\"https://colab.research.google.com/assets/colab-badge.svg\" alt=\"Open In Colab\"/></a>"
      ]
    },
    {
      "cell_type": "code",
      "metadata": {
        "id": "gwFBFgNEgG2k"
      },
      "source": [
        "import numpy as np"
      ],
      "execution_count": null,
      "outputs": []
    },
    {
      "cell_type": "code",
      "metadata": {
        "id": "xKFsFQ3Gk6QO"
      },
      "source": [
        "# Fast powering algorithm and gcd algorithm\r\n",
        "\r\n",
        "def power(a, b, n):\r\n",
        "  a = a%n\r\n",
        "  return 1 if b==0 else a**(b%2) * power(a**2, b//2, n) % n\r\n",
        "\r\n",
        "def gcd(a, b):\r\n",
        "  return a if b==0 else gcd(b, a%b)\r\n",
        "\r\n",
        "def extended_gcd(a, b):\r\n",
        "  u, g, x, y = 1, a, 0, b\r\n",
        "  while y != 0:\r\n",
        "    q, t = g // y, g % y\r\n",
        "    s = u - q*x\r\n",
        "    u, g, x, y = x, y, s, t\r\n",
        "  v = (g - a*u) // b \r\n",
        "  return g, u, v\r\n",
        "\r\n",
        "def inverse(a, N):\r\n",
        "  g, u, v = extended_gcd(a, N)\r\n",
        "  if g==1:\r\n",
        "    return u % N"
      ],
      "execution_count": null,
      "outputs": []
    },
    {
      "cell_type": "markdown",
      "metadata": {
        "id": "TDdLdhM-iFgg"
      },
      "source": [
        "# RSA"
      ]
    },
    {
      "cell_type": "code",
      "metadata": {
        "id": "3H3hFBJsiGpV"
      },
      "source": [
        "# Example of an RSA encrypted message sent from Alice to Bob.\r\n",
        "\r\n",
        "p = 22953686867719691230002707821868552601124472329079            # One of Bob's secret primes\r\n",
        "q = 46484729803540183101830167875623788794533441216779            # The other of Bob's secret primes\r\n",
        "N = p*q                                                           # Public modulus\r\n",
        "print('N =', N)\r\n",
        "e = 56239475893201289374058730812734890751                        # Public encryption exponent\r\n",
        "print('e =', e)\r\n",
        "d = inverse(e, (p-1)*(q-1)//gcd(p-1, q-1))                        # Bob's private decryption exponent\r\n",
        "\r\n",
        "m = 5712389750123478578042937405028357840920938475980712937489570 # Alice's plaintext\r\n",
        "c = power(m, e, N)                                                # Alice's encrypted cyphertext\r\n",
        "print('Encrypted message to Bob:', c)\r\n",
        "\r\n",
        "plaintext = power(c, d, N)                                        # Bob's decryption of the cyphertext\r\n",
        "print('Message successfully decrypted?: ', plaintext == m)"
      ],
      "execution_count": null,
      "outputs": []
    },
    {
      "cell_type": "markdown",
      "metadata": {
        "id": "0pEYMv15O7-R"
      },
      "source": [
        "# Carmichael numbers"
      ]
    },
    {
      "cell_type": "code",
      "metadata": {
        "id": "L4myN2ZyjGRl"
      },
      "source": [
        "# Show that 341 has many witnesses, thus it is composite.\r\n",
        "\r\n",
        "n = 341\r\n",
        "print(n)\r\n",
        "for a in range(n):\r\n",
        "  if power(a, n, n) != a:\r\n",
        "    print(a, ' is a witness for ', n)"
      ],
      "execution_count": null,
      "outputs": []
    },
    {
      "cell_type": "code",
      "metadata": {
        "id": "Ri-QwjwHPgM7"
      },
      "source": [
        "# Show that 561 has no witnesses, even though it is composite.\r\n",
        "\r\n",
        "n = 561\r\n",
        "for a in range(n):\r\n",
        "  if power(a, n, n) != a:\r\n",
        "    print(a, ' is a witness for ', n)\r\n",
        "\r\n",
        "print('561/3 =', 561/3)"
      ],
      "execution_count": null,
      "outputs": []
    },
    {
      "cell_type": "markdown",
      "metadata": {
        "id": "_yJCc3dTSTM5"
      },
      "source": [
        "# Miller-Rabin test"
      ]
    },
    {
      "cell_type": "code",
      "metadata": {
        "id": "kZSsLoHOQEIe"
      },
      "source": [
        "# Tests a number a as a Miller-Rabin witness for the compositeness of n\r\n",
        "\r\n",
        "def is_mrwitness(a, n):\r\n",
        "  # If a and n have a common factor, then n is composite\r\n",
        "  if gcd(a, n) != 1:\r\n",
        "    return True\r\n",
        "\r\n",
        "  # Write n-1 = 2^k*q with q odd\r\n",
        "  k=0\r\n",
        "  q=n-1\r\n",
        "  while q%2 == 0:\r\n",
        "    k += 1\r\n",
        "    q = q//2\r\n",
        "  \r\n",
        "  # If a^q == 1 (mod n) then a is not a Miller-Rabin witness for n\r\n",
        "  a = power(a, q, n)\r\n",
        "  if a == 1:\r\n",
        "    return False\r\n",
        "  \r\n",
        "  # If a^(2^iq) == -1 (mod n) for some i<k then a is not a Miller-Rabin witness for n\r\n",
        "  for i in range(k):\r\n",
        "    if a == n-1:\r\n",
        "      return False\r\n",
        "    a = power(a, 2, n)\r\n",
        "\r\n",
        "  return True # Otherwise a is a Miller-Rabin witness for n"
      ],
      "execution_count": null,
      "outputs": []
    },
    {
      "cell_type": "code",
      "metadata": {
        "id": "iW8T54DuTcZU"
      },
      "source": [
        "is_mrwitness(2, 561)"
      ],
      "execution_count": null,
      "outputs": []
    },
    {
      "cell_type": "code",
      "metadata": {
        "id": "ifthBCZbUk48"
      },
      "source": [
        "n = 57132436325427\r\n",
        "# n = 571\r\n",
        "for i in range(10):\r\n",
        "  a = np.random.randint(0, n)\r\n",
        "  print(is_mrwitness(a, n))"
      ],
      "execution_count": null,
      "outputs": []
    },
    {
      "cell_type": "code",
      "metadata": {
        "id": "pIipzXCcZhXu"
      },
      "source": [
        "# Test for (probable) primality of n using some number of Miller-Rabin trials.\r\n",
        "\r\n",
        "def is_mrprime(n, trials=50):\r\n",
        "  for i in range(trials):\r\n",
        "    a = int(np.random.rand()*n)\r\n",
        "    if is_mrwitness(a, n):\r\n",
        "      return False\r\n",
        "  return True"
      ],
      "execution_count": null,
      "outputs": []
    },
    {
      "cell_type": "code",
      "metadata": {
        "id": "kxBPZbI5bb9N"
      },
      "source": [
        "# Show that this works on a 20 digit prime\r\n",
        "\r\n",
        "is_mrprime(54673257461630679457)"
      ],
      "execution_count": null,
      "outputs": []
    },
    {
      "cell_type": "code",
      "metadata": {
        "id": "N1Cdf5k9belO"
      },
      "source": [
        "# Show that this works on a 20 digit random number\r\n",
        "\r\n",
        "is_mrprime(15425793095873928757)"
      ],
      "execution_count": null,
      "outputs": []
    },
    {
      "cell_type": "code",
      "metadata": {
        "id": "eE7p0uIwb89T"
      },
      "source": [
        "# Generate new 100 digit (probably) prime numbers\r\n",
        "\r\n",
        "N = 2 * 3 * 5 * 7 * 11 * 13 * 17 * 19 * 23 * 29\r\n",
        "for K in range(int(10**99/N), int(10**99/N)+100):\r\n",
        "  if is_mrprime(N*K + 1):\r\n",
        "    print(N*K + 1)"
      ],
      "execution_count": null,
      "outputs": []
    },
    {
      "cell_type": "code",
      "metadata": {
        "id": "-4es_evhcmZK"
      },
      "source": [
        "is_mrprime(999999999999999984332940850056077901690082242304346832414482863079044519106228408984722082029109461, trials=5000)"
      ],
      "execution_count": null,
      "outputs": []
    },
    {
      "cell_type": "markdown",
      "metadata": {
        "id": "u6N6y2-upKMR"
      },
      "source": [
        "# Pollard's p-1 factorization algorithm"
      ]
    },
    {
      "cell_type": "code",
      "metadata": {
        "id": "QadnVwvJe_6-"
      },
      "source": [
        "# Attempts to factor N using Pollard's p-1 factorization algorithm.  \r\n",
        "# Checks for a non-trivial gcd between a^n!-1 and N\r\n",
        "\r\n",
        "def pollard(N, a=2, maxn=1000000):\r\n",
        "  for j in np.arange(2, maxn):\r\n",
        "    a = power(a, j, N)\r\n",
        "    d = gcd(a-1, N)\r\n",
        "    if d != 1 and d != N:\r\n",
        "      return d\r\n",
        "  print('Test failed, try a larger maxn.')\r\n",
        "  return None"
      ],
      "execution_count": null,
      "outputs": []
    },
    {
      "cell_type": "code",
      "metadata": {
        "id": "geOumIH2qFJu"
      },
      "source": [
        "# Small example\r\n",
        "\r\n",
        "N = 13927189\r\n",
        "\r\n",
        "p = pollard(N)\r\n",
        "\r\n",
        "p, N/p"
      ],
      "execution_count": null,
      "outputs": []
    },
    {
      "cell_type": "code",
      "metadata": {
        "id": "4xbYQy68qzKZ"
      },
      "source": [
        "# 10 digit p and q example\r\n",
        "\r\n",
        "N = 19326223710861634601\r\n",
        "\r\n",
        "p = pollard(N, maxn=100000)\r\n",
        "\r\n",
        "p, N/p"
      ],
      "execution_count": null,
      "outputs": []
    },
    {
      "cell_type": "code",
      "metadata": {
        "id": "wfQ9-ZuprHnP"
      },
      "source": [
        "# 20 digit p and q example\r\n",
        "\r\n",
        "N = 48112959837082048697*54673257461630679457\r\n",
        "\r\n",
        "# I factored these primes-1 using the Pollard factorizer.\r\n",
        "# 48112959837082048697-1 = 2^3*277*57467*10091*37440323\r\n",
        "# 54673257461630679457-1 = 2^5*3*13^2*3225853*1044653923\r\n",
        "\r\n",
        "pollard(N)"
      ],
      "execution_count": null,
      "outputs": []
    },
    {
      "cell_type": "code",
      "metadata": {
        "id": "3oWmC0F2u6uS"
      },
      "source": [
        "# Factor a random big number (32 digits)\r\n",
        "\r\n",
        "N = 57483025789123127348975895782470\r\n",
        "\r\n",
        "pollard(N)"
      ],
      "execution_count": null,
      "outputs": []
    }
  ]
}